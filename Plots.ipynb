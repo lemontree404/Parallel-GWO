{
 "cells": [
  {
   "cell_type": "code",
   "execution_count": 1,
   "id": "f00e2ddb",
   "metadata": {},
   "outputs": [],
   "source": [
    "!g++ -fopenmp gwo.cpp -o sp.out\n",
    "!g++ -fopenmp gwo_parallel.cpp -o psp.out\n",
    "!g++ -fopenmp multi_pack_gwo.cpp multi_pack_gwo.hpp -o mp.out\n",
    "!g++ -fopenmp multi_pack_gwo_parallel.cpp multi_pack_gwo.hpp -o pmp.out"
   ]
  },
  {
   "cell_type": "code",
   "execution_count": 2,
   "id": "cbd968d3",
   "metadata": {},
   "outputs": [],
   "source": [
    "ROUNDS = 3"
   ]
  },
  {
   "cell_type": "code",
   "execution_count": 3,
   "id": "7795fbfa",
   "metadata": {},
   "outputs": [],
   "source": [
    "for i in range(ROUNDS):\n",
    "    for num_wolves in range(10,51,10):\n",
    "        for num_iter in range(50,51):\n",
    "            !./sp.out $num_wolves $num_iter $i >> sp.csv\n",
    "            !./psp.out $num_wolves $num_iter $i >> psp.csv\n",
    "            !./mp.out 4 $num_wolves $num_iter $i >> mp.csv\n",
    "            !./pmp.out 4 $num_wolves $num_iter $i >> pmp.csv"
   ]
  },
  {
   "cell_type": "code",
   "execution_count": 4,
   "id": "9dbfe7d7",
   "metadata": {},
   "outputs": [],
   "source": [
    "import pandas as pd\n",
    "import numpy as np\n",
    "import matplotlib.pyplot as plt"
   ]
  },
  {
   "cell_type": "code",
   "execution_count": 5,
   "id": "8fdc026b",
   "metadata": {},
   "outputs": [],
   "source": [
    "sp = pd.read_csv(\"sp.csv\", header=None)\n",
    "psp = pd.read_csv(\"psp.csv\", header=None)\n",
    "mp = pd.read_csv(\"mp.csv\", header=None)\n",
    "pmp = pd.read_csv(\"pmp.csv\", header=None)"
   ]
  },
  {
   "cell_type": "code",
   "execution_count": 6,
   "id": "fcecf9cd",
   "metadata": {},
   "outputs": [],
   "source": [
    "sp.columns = [\"Round\",\"Wolves\",\"No. Iterations\", \"Program Start time\", \"Thread initialization time\",\"End time\"]\n",
    "psp.columns = [\"Round\",\"Wolves\",\"No. Iterations\", \"Program Start time\", \"Thread initialization time\",\"End time\"]\n",
    "mp.columns = [\"Round\",\"No. Packs\",\"Wolves per pack\",\"No. Iterations\", \"Program Start time\", \"Thread initialization time\",\"End time\"]\n",
    "pmp.columns = [\"Round\",\"No. Packs\",\"Wolves per pack\",\"No. Iterations\", \"Program Start time\", \"Thread initialization time\",\"End time\"]"
   ]
  },
  {
   "cell_type": "code",
   "execution_count": 7,
   "id": "52e16ada",
   "metadata": {},
   "outputs": [],
   "source": [
    "sp[\"Parallel exec time\"] = sp[\"End time\"]-sp[\"Thread initialization time\"]\n",
    "psp[\"Parallel exec time\"] = psp[\"End time\"]-psp[\"Thread initialization time\"]\n",
    "mp[\"Parallel exec time\"] = mp[\"End time\"]-mp[\"Thread initialization time\"]\n",
    "pmp[\"Parallel exec time\"] = pmp[\"End time\"]-pmp[\"Thread initialization time\"]\n"
   ]
  },
  {
   "cell_type": "code",
   "execution_count": 8,
   "id": "a71abbf3",
   "metadata": {},
   "outputs": [],
   "source": [
    "sp[\"Total exec time\"] = sp[\"End time\"]-sp[\"Program Start time\"]\n",
    "psp[\"Total exec time\"] = psp[\"End time\"]-psp[\"Program Start time\"]\n",
    "mp[\"Total exec time\"] = mp[\"End time\"]-mp[\"Program Start time\"]\n",
    "pmp[\"Total exec time\"] = pmp[\"End time\"]-pmp[\"Program Start time\"]\n"
   ]
  },
  {
   "cell_type": "code",
   "execution_count": 9,
   "id": "f15c2bd6",
   "metadata": {},
   "outputs": [],
   "source": [
    "sp[\"Time per Iteration\"] = (sp[\"End time\"]-sp[\"Thread initialization time\"])/sp[\"No. Iterations\"]\n",
    "psp[\"Time per Iteration\"] = (psp[\"End time\"]-psp[\"Thread initialization time\"])/psp[\"No. Iterations\"]\n",
    "mp[\"Time per Iteration\"] = (mp[\"End time\"]-mp[\"Thread initialization time\"])/mp[\"No. Iterations\"]\n",
    "pmp[\"Time per Iteration\"] = (pmp[\"End time\"]-pmp[\"Thread initialization time\"])/pmp[\"No. Iterations\"]\n"
   ]
  },
  {
   "cell_type": "code",
   "execution_count": 10,
   "id": "24137a92",
   "metadata": {},
   "outputs": [],
   "source": [
    "sp.drop([\"Thread initialization time\",\"Program Start time\", \"End time\"], axis=1, inplace=True)\n",
    "psp.drop([\"Thread initialization time\",\"Program Start time\", \"End time\"], axis=1, inplace=True)\n",
    "mp.drop([\"Thread initialization time\",\"Program Start time\", \"End time\"], axis=1, inplace=True)\n",
    "pmp.drop([\"Thread initialization time\",\"Program Start time\", \"End time\"], axis=1, inplace=True)"
   ]
  },
  {
   "cell_type": "code",
   "execution_count": 25,
   "id": "e2758c6d",
   "metadata": {},
   "outputs": [],
   "source": [
    "x = [0 for i in range(ROUNDS)]\n",
    "y = [0 for i in range(ROUNDS)]\n",
    "z = [0 for i in range(ROUNDS)]\n",
    "\n",
    "for i in range(sp.shape[0]):\n",
    "    x[sp[\"Round\"][i]] += sp[\"Total exec time\"][i]\n",
    "    y[sp[\"Round\"][i]] += sp[\"Parallel exec time\"][i]\n",
    "    z[sp[\"Round\"][i]] += sp[\"Time per Iteration\"][i]\n",
    "    \n",
    "x = [i/ROUNDS for i in x]\n",
    "y = [i/ROUNDS for i in y]\n",
    "z = [i/ROUNDS for i in z]\n",
    "\n",
    "sp[\"Average Total exec time\"] = [x[i] for i in  sp[\"Round\"]]\n",
    "sp[\"Average Parallel exec time\"] = [y[i] for i in  sp[\"Round\"]]\n",
    "sp[\"Average Time per Iteration\"] = [z[i] for i in  sp[\"Round\"]]\n"
   ]
  },
  {
   "cell_type": "code",
   "execution_count": 26,
   "id": "30a0d3c2",
   "metadata": {},
   "outputs": [],
   "source": [
    "x = [0 for i in range(ROUNDS)]\n",
    "y = [0 for i in range(ROUNDS)]\n",
    "z = [0 for i in range(ROUNDS)]\n",
    "\n",
    "for i in range(psp.shape[0]):\n",
    "    x[psp[\"Round\"][i]] += psp[\"Total exec time\"][i]\n",
    "    y[psp[\"Round\"][i]] += psp[\"Parallel exec time\"][i]\n",
    "    z[psp[\"Round\"][i]] += psp[\"Time per Iteration\"][i]\n",
    "    \n",
    "x = [i/ROUNDS for i in x]\n",
    "y = [i/ROUNDS for i in y]\n",
    "z = [i/ROUNDS for i in z]\n",
    "\n",
    "psp[\"Average Total exec time\"] = [x[i] for i in  psp[\"Round\"]]\n",
    "psp[\"Average Parallel exec time\"] = [y[i] for i in  psp[\"Round\"]]\n",
    "psp[\"Average Time per Iteration\"] = [z[i] for i in  psp[\"Round\"]]\n"
   ]
  },
  {
   "cell_type": "code",
   "execution_count": 27,
   "id": "d220b694",
   "metadata": {},
   "outputs": [],
   "source": [
    "x = [0 for i in range(ROUNDS)]\n",
    "y = [0 for i in range(ROUNDS)]\n",
    "z = [0 for i in range(ROUNDS)]\n",
    "\n",
    "for i in range(mp.shape[0]):\n",
    "    x[mp[\"Round\"][i]] += mp[\"Total exec time\"][i]\n",
    "    y[mp[\"Round\"][i]] += mp[\"Parallel exec time\"][i]\n",
    "    z[mp[\"Round\"][i]] += mp[\"Time per Iteration\"][i]\n",
    "    \n",
    "x = [i/ROUNDS for i in x]\n",
    "y = [i/ROUNDS for i in y]\n",
    "z = [i/ROUNDS for i in z]\n",
    "\n",
    "mp[\"Average Total exec time\"] = [x[i] for i in  mp[\"Round\"]]\n",
    "mp[\"Average Parallel exec time\"] = [y[i] for i in  mp[\"Round\"]]\n",
    "mp[\"Average Time per Iteration\"] = [z[i] for i in  mp[\"Round\"]]\n"
   ]
  },
  {
   "cell_type": "code",
   "execution_count": 28,
   "id": "7255e192",
   "metadata": {},
   "outputs": [],
   "source": [
    "x = [0 for i in range(ROUNDS)]\n",
    "y = [0 for i in range(ROUNDS)]\n",
    "z = [0 for i in range(ROUNDS)]\n",
    "\n",
    "for i in range(pmp.shape[0]):\n",
    "    x[pmp[\"Round\"][i]] += pmp[\"Total exec time\"][i]\n",
    "    y[pmp[\"Round\"][i]] += pmp[\"Parallel exec time\"][i]\n",
    "    z[pmp[\"Round\"][i]] += pmp[\"Time per Iteration\"][i]\n",
    "    \n",
    "x = [i/ROUNDS for i in x]\n",
    "y = [i/ROUNDS for i in y]\n",
    "z = [i/ROUNDS for i in z]\n",
    "\n",
    "pmp[\"Average Total exec time\"] = [x[i] for i in  pmp[\"Round\"]]\n",
    "pmp[\"Average Parallel exec time\"] = [y[i] for i in  pmp[\"Round\"]]\n",
    "pmp[\"Average Time per Iteration\"] = [z[i] for i in  pmp[\"Round\"]]\n"
   ]
  },
  {
   "cell_type": "code",
   "execution_count": 50,
   "id": "7c5d5813",
   "metadata": {},
   "outputs": [],
   "source": [
    "psp[\"Speed up\"] = sp[\"Average Parallel exec time\"]/psp[\"Average Parallel exec time\"]\n",
    "pmp[\"Speed up\"] = mp[\"Average Parallel exec time\"]/pmp[\"Average Parallel exec time\"]"
   ]
  },
  {
   "cell_type": "code",
   "execution_count": 51,
   "id": "f18bd766",
   "metadata": {},
   "outputs": [],
   "source": [
    "randwolf = 40\n",
    "randiter = 50"
   ]
  },
  {
   "cell_type": "code",
   "execution_count": 52,
   "id": "cc1343a2",
   "metadata": {
    "scrolled": true
   },
   "outputs": [
    {
     "data": {
      "text/plain": [
       "[<matplotlib.lines.Line2D at 0x7fcee3e32a40>]"
      ]
     },
     "execution_count": 52,
     "metadata": {},
     "output_type": "execute_result"
    },
    {
     "data": {
      "image/png": "[encoded data removed]",
      "text/plain": [
       "<Figure size 432x288 with 1 Axes>"
      ]
     },
     "metadata": {
      "needs_background": "light"
     },
     "output_type": "display_data"
    }
   ],
   "source": [
    "plt.plot(psp[psp[\"Wolves\"]==randwolf][\"No. Iterations\"],psp[psp[\"Wolves\"]==randwolf][\"Speed up\"])"
   ]
  },
  {
   "cell_type": "code",
   "execution_count": 53,
   "id": "76bd68d3",
   "metadata": {},
   "outputs": [
    {
     "data": {
      "text/plain": [
       "[<matplotlib.lines.Line2D at 0x7fcee3636290>]"
      ]
     },
     "execution_count": 53,
     "metadata": {},
     "output_type": "execute_result"
    },
    {
     "data": {
      "image/png": "[encoded data removed]",
      "text/plain": [
       "<Figure size 432x288 with 1 Axes>"
      ]
     },
     "metadata": {
      "needs_background": "light"
     },
     "output_type": "display_data"
    }
   ],
   "source": [
    "plt.plot(pmp[pmp[\"Wolves per pack\"]==randwolf][\"No. Iterations\"],pmp[pmp[\"Wolves per pack\"]==randwolf][\"Speed up\"])"
   ]
  },
  {
   "cell_type": "code",
   "execution_count": 54,
   "id": "97baae18",
   "metadata": {},
   "outputs": [
    {
     "data": {
      "text/plain": [
       "[<matplotlib.lines.Line2D at 0x7fcee3505ed0>]"
      ]
     },
     "execution_count": 54,
     "metadata": {},
     "output_type": "execute_result"
    },
    {
     "data": {
      "image/png": "[encoded data removed]",
      "text/plain": [
       "<Figure size 432x288 with 1 Axes>"
      ]
     },
     "metadata": {
      "needs_background": "light"
     },
     "output_type": "display_data"
    }
   ],
   "source": [
    "plt.plot(psp[psp[\"No. Iterations\"] == randiter][\"Wolves\"], psp[psp[\"No. Iterations\"] == randiter][\"Speed up\"])"
   ]
  },
  {
   "cell_type": "code",
   "execution_count": 55,
   "id": "50d33e37",
   "metadata": {},
   "outputs": [
    {
     "data": {
      "text/plain": [
       "[<matplotlib.lines.Line2D at 0x7fcee35af760>]"
      ]
     },
     "execution_count": 55,
     "metadata": {},
     "output_type": "execute_result"
    },
    {
     "data": {
      "image/png": "[encoded data removed]",
      "text/plain": [
       "<Figure size 432x288 with 1 Axes>"
      ]
     },
     "metadata": {
      "needs_background": "light"
     },
     "output_type": "display_data"
    }
   ],
   "source": [
    "plt.plot(pmp[pmp[\"No. Iterations\"] == randiter][\"Wolves per pack\"], pmp[pmp[\"No. Iterations\"] == randiter][\"Speed up\"])"
   ]
  },
  {
   "cell_type": "code",
   "execution_count": 56,
   "id": "f5aabfaa",
   "metadata": {},
   "outputs": [],
   "source": [
    "psp[\"Efficiency\"] = (psp[\"Speed up\"]/8)*100\n"
   ]
  }
 ],
 "metadata": {
  "kernelspec": {
   "display_name": "Python 3 (ipykernel)",
   "language": "python",
   "name": "python3"
  },
  "language_info": {
   "codemirror_mode": {
    "name": "ipython",
    "version": 3
   },
   "file_extension": ".py",
   "mimetype": "text/x-python",
   "name": "python",
   "nbconvert_exporter": "python",
   "pygments_lexer": "ipython3",
   "version": "3.10.6"
  }
 },
 "nbformat": 4,
 "nbformat_minor": 5
}
